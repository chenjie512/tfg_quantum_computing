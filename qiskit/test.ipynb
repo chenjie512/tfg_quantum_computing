{
 "cells": [
  {
   "cell_type": "code",
   "execution_count": 3,
   "id": "02fda488",
   "metadata": {},
   "outputs": [],
   "source": [
    "from qiskit import QuantumCircuit"
   ]
  },
  {
   "cell_type": "code",
   "execution_count": 4,
   "id": "e688bd0a",
   "metadata": {},
   "outputs": [
    {
     "data": {
      "text/plain": [
       "<qiskit.circuit.instructionset.InstructionSet at 0x7f8f1bea0100>"
      ]
     },
     "execution_count": 4,
     "metadata": {},
     "output_type": "execute_result"
    }
   ],
   "source": [
    "qc = QuantumCircuit(3, 1)\n",
    "qc.h(0)\n",
    "qc.h(1)\n",
    "qc.cnot(1,2)"
   ]
  },
  {
   "cell_type": "code",
   "execution_count": 5,
   "id": "e2c2da69",
   "metadata": {},
   "outputs": [
    {
     "data": {
      "image/png": "[encoded data removed]",
      "text/plain": [
       "<Figure size 206.997x264.88 with 1 Axes>"
      ]
     },
     "execution_count": 5,
     "metadata": {},
     "output_type": "execute_result"
    }
   ],
   "source": [
    "qc.draw(output='mpl', filename='cir.png')"
   ]
  },
  {
   "cell_type": "code",
   "execution_count": 6,
   "id": "b44b8ac8",
   "metadata": {},
   "outputs": [
    {
     "data": {
      "image/png": "[encoded data removed]",
      "text/plain": [
       "<PIL.Image.Image image mode=RGB size=168x117 at 0x7F8F1BBA1EB0>"
      ]
     },
     "execution_count": 6,
     "metadata": {},
     "output_type": "execute_result"
    }
   ],
   "source": [
    "qc.draw(output='latex')"
   ]
  },
  {
   "cell_type": "code",
   "execution_count": 8,
   "id": "05f4253d",
   "metadata": {},
   "outputs": [
    {
     "data": {
      "text/plain": [
       "'\\\\documentclass[border=2px]{standalone}\\n\\n\\\\usepackage[braket, qm]{qcircuit}\\n\\\\usepackage{graphicx}\\n\\n\\\\begin{document}\\n\\\\scalebox{1.0}{\\n\\\\Qcircuit @C=1.0em @R=0.2em @!R { \\\\\\\\\\n\\t \\t\\\\nghost{{q}_{0} :  } & \\\\lstick{{q}_{0} :  } & \\\\gate{\\\\mathrm{H}} & \\\\qw & \\\\qw & \\\\qw\\\\\\\\\\n\\t \\t\\\\nghost{{q}_{1} :  } & \\\\lstick{{q}_{1} :  } & \\\\gate{\\\\mathrm{H}} & \\\\ctrl{1} & \\\\qw & \\\\qw\\\\\\\\\\n\\t \\t\\\\nghost{{q}_{2} :  } & \\\\lstick{{q}_{2} :  } & \\\\qw & \\\\targ & \\\\qw & \\\\qw\\\\\\\\\\n\\t \\t\\\\nghost{\\\\mathrm{{c} :  }} & \\\\lstick{\\\\mathrm{{c} :  }} & \\\\lstick{/_{_{1}}} \\\\cw & \\\\cw & \\\\cw & \\\\cw\\\\\\\\\\n\\\\\\\\ }}\\n\\\\end{document}'"
      ]
     },
     "execution_count": 8,
     "metadata": {},
     "output_type": "execute_result"
    }
   ],
   "source": [
    "qc.draw(output='latex_source', filename='cir.tex')"
   ]
  }
 ],
 "metadata": {
  "kernelspec": {
   "display_name": "Python 3",
   "language": "python",
   "name": "python3"
  },
  "language_info": {
   "codemirror_mode": {
    "name": "ipython",
    "version": 3
   },
   "file_extension": ".py",
   "mimetype": "text/x-python",
   "name": "python",
   "nbconvert_exporter": "python",
   "pygments_lexer": "ipython3",
   "version": "3.8.10"
  }
 },
 "nbformat": 4,
 "nbformat_minor": 5
}
