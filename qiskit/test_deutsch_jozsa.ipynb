{
 "cells": [
  {
   "cell_type": "code",
   "execution_count": 1,
   "id": "e59d91ec",
   "metadata": {},
   "outputs": [],
   "source": [
    "#deutsh-jozsa-algorithm\n",
    "from qiskit import QuantumCircuit, transpile\n",
    "from qiskit.quantum_info import Operator, Statevector\n",
    "from qiskit.providers.aer import QasmSimulator"
   ]
  },
  {
   "cell_type": "code",
   "execution_count": 5,
   "id": "21f53967",
   "metadata": {},
   "outputs": [
    {
     "data": {
      "image/png": "[encoded data removed]",
      "text/plain": [
       "<Figure size 568.197x264.88 with 1 Axes>"
      ]
     },
     "execution_count": 5,
     "metadata": {},
     "output_type": "execute_result"
    }
   ],
   "source": [
    "#circuito\n",
    "#equilibrada\n",
    "circ = QuantumCircuit(3,2)\n",
    "circ.x(2)\n",
    "circ.h(range(3))\n",
    "gf = Operator([[1,0,0,0,0,0,0,0],\n",
    "               [0,0,0,0,0,1,0,0],\n",
    "               [0,0,1,0,0,0,0,0],\n",
    "               [0,0,0,0,0,0,0,1],\n",
    "               [0,0,0,0,1,0,0,0],\n",
    "               [0,1,0,0,0,0,0,0],\n",
    "               [0,0,0,0,0,0,1,0],\n",
    "               [0,0,0,1,0,0,0,0]])\n",
    "circ.append(gf, [0,1,2])\n",
    "circ.h(range(2))\n",
    "circ.barrier(range(3))\n",
    "circ.measure(range(2),range(2))\n",
    "circ.draw('mpl')"
   ]
  },
  {
   "cell_type": "code",
   "execution_count": 4,
   "id": "ac699d83",
   "metadata": {},
   "outputs": [
    {
     "name": "stdout",
     "output_type": "stream",
     "text": [
      "{'01': 1024}\n"
     ]
    }
   ],
   "source": [
    "#ejecucion\n",
    "backend = QasmSimulator()\n",
    "job_sim = backend.run(transpile(circ, backend), shots=1024)\n",
    "result_sim = job_sim.result()\n",
    "\n",
    "counts = result_sim.get_counts(circ)\n",
    "print(counts)"
   ]
  },
  {
   "cell_type": "code",
   "execution_count": 6,
   "id": "7fc5ad7c",
   "metadata": {},
   "outputs": [
    {
     "data": {
      "image/png": "[encoded data removed]",
      "text/plain": [
       "<Figure size 568.197x264.88 with 1 Axes>"
      ]
     },
     "execution_count": 6,
     "metadata": {},
     "output_type": "execute_result"
    }
   ],
   "source": [
    "#circuito\n",
    "#constante 1\n",
    "circ2 = QuantumCircuit(3,2)\n",
    "circ2.x(2)\n",
    "circ2.h(range(3))\n",
    "gf2 = Operator([[0,1,0,0,0,0,0,0],\n",
    "               [1,0,0,0,0,0,0,0],\n",
    "               [0,0,0,1,0,0,0,0],\n",
    "               [0,0,1,0,0,0,0,0],\n",
    "               [0,0,0,0,0,1,0,0],\n",
    "               [0,0,0,0,1,0,0,0],\n",
    "               [0,0,0,0,0,0,0,1],\n",
    "               [0,0,0,0,0,0,1,0]])\n",
    "circ2.append(gf2, [0,1,2])\n",
    "circ2.h(range(2))\n",
    "circ2.barrier(range(3))\n",
    "circ2.measure(range(2),range(2))\n",
    "circ2.draw('mpl')"
   ]
  },
  {
   "cell_type": "code",
   "execution_count": 7,
   "id": "66b7bb38",
   "metadata": {},
   "outputs": [
    {
     "name": "stdout",
     "output_type": "stream",
     "text": [
      "{'00': 1024}\n"
     ]
    }
   ],
   "source": [
    "#ejecucion\n",
    "backend2 = QasmSimulator()\n",
    "job_sim2 = backend2.run(transpile(circ2, backend2), shots=1024)\n",
    "result_sim2 = job_sim2.result()\n",
    "\n",
    "counts2 = result_sim2.get_counts(circ2)\n",
    "print(counts2)"
   ]
  },
  {
   "cell_type": "code",
   "execution_count": null,
   "id": "fff8d683",
   "metadata": {},
   "outputs": [],
   "source": []
  }
 ],
 "metadata": {
  "kernelspec": {
   "display_name": "Python 3 (ipykernel)",
   "language": "python",
   "name": "python3"
  },
  "language_info": {
   "codemirror_mode": {
    "name": "ipython",
    "version": 3
   },
   "file_extension": ".py",
   "mimetype": "text/x-python",
   "name": "python",
   "nbconvert_exporter": "python",
   "pygments_lexer": "ipython3",
   "version": "3.10.2"
  }
 },
 "nbformat": 4,
 "nbformat_minor": 5
}
