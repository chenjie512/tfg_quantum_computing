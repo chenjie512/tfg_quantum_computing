{
 "cells": [
  {
   "cell_type": "code",
   "execution_count": 21,
   "id": "e59d91ec",
   "metadata": {},
   "outputs": [],
   "source": [
    "#deutsh-jozsa-algorithm\n",
    "from qiskit import QuantumCircuit, transpile, execute\n",
    "from qiskit.quantum_info import Operator, Statevector\n",
    "from qiskit.providers.aer import QasmSimulator\n",
    "from qiskit.visualization import plot_histogram"
   ]
  },
  {
   "cell_type": "code",
   "execution_count": 4,
   "id": "21f53967",
   "metadata": {},
   "outputs": [
    {
     "data": {
      "image/png": "[encoded data removed]",
      "text/plain": [
       "<Figure size 568.197x264.88 with 1 Axes>"
      ]
     },
     "execution_count": 4,
     "metadata": {},
     "output_type": "execute_result"
    }
   ],
   "source": [
    "#circuito\n",
    "#equilibrada\n",
    "circ = QuantumCircuit(3,2)\n",
    "circ.x(2)\n",
    "circ.h(range(3))\n",
    "gf = Operator([[1,0,0,0,0,0,0,0],\n",
    "               [0,0,0,0,0,1,0,0],\n",
    "               [0,0,1,0,0,0,0,0],\n",
    "               [0,0,0,0,0,0,0,1],\n",
    "               [0,0,0,0,1,0,0,0],\n",
    "               [0,1,0,0,0,0,0,0],\n",
    "               [0,0,0,0,0,0,1,0],\n",
    "               [0,0,0,1,0,0,0,0]])\n",
    "circ.append(gf, [0,1,2])\n",
    "circ.h(range(2))\n",
    "circ.barrier(range(3))\n",
    "circ.measure(range(2),range(2))\n",
    "circ.draw('mpl')"
   ]
  },
  {
   "cell_type": "code",
   "execution_count": 5,
   "id": "ac699d83",
   "metadata": {},
   "outputs": [
    {
     "name": "stdout",
     "output_type": "stream",
     "text": [
      "{'01': 1024}\n"
     ]
    }
   ],
   "source": [
    "#ejecucion\n",
    "backend = QasmSimulator()\n",
    "job_sim = backend.run(transpile(circ, backend), shots=1024)\n",
    "result_sim = job_sim.result()\n",
    "\n",
    "counts = result_sim.get_counts(circ)\n",
    "print(counts)"
   ]
  },
  {
   "cell_type": "code",
   "execution_count": 6,
   "id": "7fc5ad7c",
   "metadata": {},
   "outputs": [
    {
     "data": {
      "image/png": "[encoded data removed]",
      "text/plain": [
       "<Figure size 568.197x264.88 with 1 Axes>"
      ]
     },
     "execution_count": 6,
     "metadata": {},
     "output_type": "execute_result"
    }
   ],
   "source": [
    "#circuito\n",
    "#constante 1\n",
    "circ2 = QuantumCircuit(3,2)\n",
    "circ2.x(2)\n",
    "circ2.h(range(3))\n",
    "gf2 = Operator([[0,1,0,0,0,0,0,0],\n",
    "               [1,0,0,0,0,0,0,0],\n",
    "               [0,0,0,1,0,0,0,0],\n",
    "               [0,0,1,0,0,0,0,0],\n",
    "               [0,0,0,0,0,1,0,0],\n",
    "               [0,0,0,0,1,0,0,0],\n",
    "               [0,0,0,0,0,0,0,1],\n",
    "               [0,0,0,0,0,0,1,0]])\n",
    "circ2.append(gf2, [0,1,2])\n",
    "circ2.h(range(2))\n",
    "circ2.barrier(range(3))\n",
    "circ2.measure(range(2),range(2))\n",
    "circ2.draw('mpl')"
   ]
  },
  {
   "cell_type": "code",
   "execution_count": 7,
   "id": "66b7bb38",
   "metadata": {},
   "outputs": [
    {
     "name": "stdout",
     "output_type": "stream",
     "text": [
      "{'00': 1024}\n"
     ]
    }
   ],
   "source": [
    "#ejecucion\n",
    "backend2 = QasmSimulator()\n",
    "job_sim2 = backend2.run(transpile(circ2, backend2), shots=1024)\n",
    "result_sim2 = job_sim2.result()\n",
    "\n",
    "counts2 = result_sim2.get_counts(circ2)\n",
    "print(counts2)"
   ]
  },
  {
   "cell_type": "code",
   "execution_count": 8,
   "id": "fff8d683",
   "metadata": {},
   "outputs": [
    {
     "name": "stderr",
     "output_type": "stream",
     "text": [
      "configrc.store_credentials:WARNING:2022-04-04 16:18:44,982: Credentials already present. Set overwrite=True to overwrite.\n"
     ]
    },
    {
     "data": {
      "text/plain": [
       "<AccountProvider for IBMQ(hub='ibm-q', group='open', project='main')>"
      ]
     },
     "execution_count": 8,
     "metadata": {},
     "output_type": "execute_result"
    }
   ],
   "source": [
    "from qiskit.test.mock import *\n",
    "TOKEN = \"81873f33da676c9396653a8f328c400df953e9fe99192cb798a24eb040a564c968276f0525a7ba9008fbcc65a3d69e8e8fb05605d4947e52ec76b3790a15818d\"\n",
    "from qiskit import IBMQ\n",
    "from qiskit.providers.ibmq import least_busy, IBMQBackend\n",
    "IBMQ.save_account(TOKEN)\n",
    "IBMQ.load_account() \n"
   ]
  },
  {
   "cell_type": "code",
   "execution_count": 9,
   "id": "7e1a2534",
   "metadata": {},
   "outputs": [
    {
     "data": {
      "text/plain": [
       "[<IBMQSimulator('ibmq_qasm_simulator') from IBMQ(hub='ibm-q', group='open', project='main')>,\n",
       " <IBMQBackend('ibmq_armonk') from IBMQ(hub='ibm-q', group='open', project='main')>,\n",
       " <IBMQBackend('ibmq_santiago') from IBMQ(hub='ibm-q', group='open', project='main')>,\n",
       " <IBMQBackend('ibmq_bogota') from IBMQ(hub='ibm-q', group='open', project='main')>,\n",
       " <IBMQBackend('ibmq_lima') from IBMQ(hub='ibm-q', group='open', project='main')>,\n",
       " <IBMQBackend('ibmq_belem') from IBMQ(hub='ibm-q', group='open', project='main')>,\n",
       " <IBMQBackend('ibmq_quito') from IBMQ(hub='ibm-q', group='open', project='main')>,\n",
       " <IBMQSimulator('simulator_statevector') from IBMQ(hub='ibm-q', group='open', project='main')>,\n",
       " <IBMQSimulator('simulator_mps') from IBMQ(hub='ibm-q', group='open', project='main')>,\n",
       " <IBMQSimulator('simulator_extended_stabilizer') from IBMQ(hub='ibm-q', group='open', project='main')>,\n",
       " <IBMQSimulator('simulator_stabilizer') from IBMQ(hub='ibm-q', group='open', project='main')>,\n",
       " <IBMQBackend('ibmq_manila') from IBMQ(hub='ibm-q', group='open', project='main')>]"
      ]
     },
     "execution_count": 9,
     "metadata": {},
     "output_type": "execute_result"
    }
   ],
   "source": [
    "provider = IBMQ.get_provider(hub='ibm-q')\n",
    "provider.backends()"
   ]
  },
  {
   "cell_type": "code",
   "execution_count": 10,
   "id": "f03485f2",
   "metadata": {},
   "outputs": [],
   "source": [
    "def get_real_backend(nqbits):\n",
    "    provider = IBMQ.get_provider(hub='ibm-q')\n",
    "    small_providers = provider.backends(filters=lambda x: x.configuration().n_qubits >= nqbits\n",
    "                                        and not x.configuration().simulator\n",
    "                                        and x.status().operational==True)\n",
    "    return least_busy(small_providers)"
   ]
  },
  {
   "cell_type": "code",
   "execution_count": 12,
   "id": "303818ec",
   "metadata": {},
   "outputs": [
    {
     "name": "stdout",
     "output_type": "stream",
     "text": [
      "ibmq_quito\n"
     ]
    }
   ],
   "source": [
    "sp = get_real_backend(3)\n",
    "print(sp)"
   ]
  },
  {
   "cell_type": "code",
   "execution_count": 17,
   "id": "c1c39ed0",
   "metadata": {},
   "outputs": [],
   "source": [
    "job = execute(circ, backend=sp)"
   ]
  },
  {
   "cell_type": "code",
   "execution_count": 19,
   "id": "a93751e2",
   "metadata": {},
   "outputs": [
    {
     "data": {
      "text/plain": [
       "<JobStatus.DONE: 'job has successfully run'>"
      ]
     },
     "execution_count": 19,
     "metadata": {},
     "output_type": "execute_result"
    }
   ],
   "source": [
    "job.status()"
   ]
  },
  {
   "cell_type": "code",
   "execution_count": 22,
   "id": "363bce64",
   "metadata": {},
   "outputs": [
    {
     "data": {
      "image/png": "[encoded data removed]",
      "text/plain": [
       "<Figure size 504x360 with 1 Axes>"
      ]
     },
     "execution_count": 22,
     "metadata": {},
     "output_type": "execute_result"
    }
   ],
   "source": [
    "result = job.result()\n",
    "counts = result.get_counts(circ)\n",
    "plot_histogram(counts)"
   ]
  },
  {
   "cell_type": "code",
   "execution_count": null,
   "id": "5d7ab834",
   "metadata": {},
   "outputs": [],
   "source": []
  }
 ],
 "metadata": {
  "kernelspec": {
   "display_name": "Python 3 (ipykernel)",
   "language": "python",
   "name": "python3"
  },
  "language_info": {
   "codemirror_mode": {
    "name": "ipython",
    "version": 3
   },
   "file_extension": ".py",
   "mimetype": "text/x-python",
   "name": "python",
   "nbconvert_exporter": "python",
   "pygments_lexer": "ipython3",
   "version": "3.10.2"
  }
 },
 "nbformat": 4,
 "nbformat_minor": 5
}
