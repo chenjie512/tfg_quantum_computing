{
 "cells": [
  {
   "cell_type": "code",
   "execution_count": 2,
   "id": "f2ab7edc",
   "metadata": {},
   "outputs": [],
   "source": [
    "#deutsh-algorithm\n",
    "from qiskit import QuantumCircuit, transpile\n",
    "from qiskit.quantum_info import Operator, Statevector\n",
    "from qiskit.providers.aer import QasmSimulator"
   ]
  },
  {
   "cell_type": "code",
   "execution_count": 7,
   "id": "f1eba7fc",
   "metadata": {},
   "outputs": [
    {
     "data": {
      "image/png": "[encoded data removed]",
      "text/plain": [
       "<Figure size 507.852x204.68 with 1 Axes>"
      ]
     },
     "execution_count": 7,
     "metadata": {},
     "output_type": "execute_result"
    }
   ],
   "source": [
    "#circuito\n",
    "circ = QuantumCircuit(2, 1)\n",
    "circ.x(1)\n",
    "circ.h(range(2))\n",
    "gf = Operator([[0,0,1,0],\n",
    "               [0,1,0,0],\n",
    "               [1,0,0,0],\n",
    "               [0,0,0,1]])\n",
    "circ.append(gf, [0,1])\n",
    "circ.h(0)\n",
    "circ.barrier(range(2))\n",
    "circ.measure(range(1),range(1))\n",
    "circ.draw('mpl')"
   ]
  },
  {
   "cell_type": "code",
   "execution_count": 8,
   "id": "718eed02",
   "metadata": {},
   "outputs": [
    {
     "name": "stdout",
     "output_type": "stream",
     "text": [
      "{'1': 1024}\n"
     ]
    }
   ],
   "source": [
    "#ejecucion\n",
    "backend = QasmSimulator()\n",
    "job_sim = backend.run(transpile(circ, backend), shots=1024)\n",
    "result_sim = job_sim.result()\n",
    "\n",
    "counts = result_sim.get_counts(circ)\n",
    "print(counts)"
   ]
  },
  {
   "cell_type": "code",
   "execution_count": null,
   "id": "38eb0e8f",
   "metadata": {},
   "outputs": [],
   "source": []
  },
  {
   "cell_type": "code",
   "execution_count": null,
   "id": "90cd015a",
   "metadata": {},
   "outputs": [],
   "source": []
  },
  {
   "cell_type": "code",
   "execution_count": null,
   "id": "7f2dd151",
   "metadata": {},
   "outputs": [],
   "source": []
  }
 ],
 "metadata": {
  "kernelspec": {
   "display_name": "Python 3 (ipykernel)",
   "language": "python",
   "name": "python3"
  },
  "language_info": {
   "codemirror_mode": {
    "name": "ipython",
    "version": 3
   },
   "file_extension": ".py",
   "mimetype": "text/x-python",
   "name": "python",
   "nbconvert_exporter": "python",
   "pygments_lexer": "ipython3",
   "version": "3.10.0"
  }
 },
 "nbformat": 4,
 "nbformat_minor": 5
}
